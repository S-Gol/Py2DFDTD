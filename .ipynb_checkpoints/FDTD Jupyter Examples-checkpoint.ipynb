{
 "cells": [
  {
   "cell_type": "markdown",
   "id": "143bde26",
   "metadata": {},
   "source": [
    "## FDTD Elastic - Example Usage"
   ]
  },
  {
   "cell_type": "code",
   "execution_count": 1,
   "id": "06b6e480",
   "metadata": {
    "scrolled": true
   },
   "outputs": [],
   "source": [
    "from FDTD.FDTDElastic import FDTDElasticModel    #Elastic wave model\n",
    "from FDTD.Materials import materials             #Material Presets\n",
    "\n",
    "import numpy as np\n",
    "import matplotlib.pyplot as plt                  #For animation\n",
    "from numpy import pi                             #Used for Gaussian source math\n",
    "import sys"
   ]
  },
  {
   "cell_type": "markdown",
   "id": "e8a6423d",
   "metadata": {},
   "source": [
    "## Source creation"
   ]
  },
  {
   "cell_type": "code",
   "execution_count": 2,
   "id": "45cb48ab",
   "metadata": {},
   "outputs": [],
   "source": [
    "#Frequency, hz\n",
    "f0=10\n",
    "#Period\n",
    "t0 = 1.00 / f0\n",
    "def sourceFunc(t):\n",
    "    v = np.exp(-(((2*(t-2*t0)/(t0))**2)))*np.sin(2*pi*f0*t)*0.01\n",
    "    return [0,v]\n",
    "\n",
    "sources =[]\n",
    "#Formatted as tuple of [x,y,function]\n",
    "sources.append([100,100, sourceFunc])"
   ]
  },
  {
   "cell_type": "markdown",
   "id": "e08f08e7",
   "metadata": {},
   "source": [
    "## Create material array"
   ]
  },
  {
   "cell_type": "code",
   "execution_count": 3,
   "id": "519d76c2",
   "metadata": {},
   "outputs": [],
   "source": [
    "materialGrid = np.full([400,400], materials[\"steel\"])\n",
    "materialGrid[200:250, 0::] = materials[\"generic\"]"
   ]
  },
  {
   "cell_type": "markdown",
   "id": "963912fb",
   "metadata": {},
   "source": [
    "## Initialize and run the model"
   ]
  },
  {
   "cell_type": "code",
   "execution_count": 4,
   "id": "26599420",
   "metadata": {
    "scrolled": true
   },
   "outputs": [
    {
     "name": "stdout",
     "output_type": "stream",
     "text": [
      "Initialized elastic FDTD field of size 400,400\n",
      "Frame 1000 of 1000\n",
      "Done\n",
      "Average update time, ms: 7.193449858549956\n"
     ]
    }
   ],
   "source": [
    "model = FDTDElasticModel(sources, materialGrid=materialGrid, dx=10, dz=10, ntDisplay = 10)\n",
    "numT = 1000\n",
    "for i in range(numT):\n",
    "    model.timeStep()\n",
    "    sys.stdout.write('\\r')\n",
    "    sys.stdout.write(\"Frame {0} of {1}\".format(str(i+1), numT))\n",
    "    sys.stdout.flush()\n",
    "print(\"\\nDone\")\n",
    "print(\"Average update time, ms: \" + str(np.mean(model.frameTime[1::])))"
   ]
  }
 ],
 "metadata": {
  "kernelspec": {
   "display_name": "Python 3",
   "language": "python",
   "name": "python3"
  },
  "language_info": {
   "codemirror_mode": {
    "name": "ipython",
    "version": 3
   },
   "file_extension": ".py",
   "mimetype": "text/x-python",
   "name": "python",
   "nbconvert_exporter": "python",
   "pygments_lexer": "ipython3",
   "version": "3.9.4"
  }
 },
 "nbformat": 4,
 "nbformat_minor": 5
}
