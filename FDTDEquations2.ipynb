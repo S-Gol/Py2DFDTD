{
 "cells": [
  {
   "cell_type": "code",
   "execution_count": 3,
   "source": [
    "from sympy import *\r\n",
    "import sympy\r\n",
    "import pyperclip\r\n",
    "\r\n",
    "def easycopy(sympyObj):\r\n",
    "    pyperclip.copy((latex(sympyObj)).replace(\"{\\\\left(x,y,z,t \\\\right)}\",\"\"))\r\n",
    "\r\n",
    "\r\n",
    "def gradient(scalar_function, variables):\r\n",
    "    matrix_scalar_function = Matrix([scalar_function])\r\n",
    "    return matrix_scalar_function.jacobian(variables)\r\n",
    "def tensorDiv(mat, axes):\r\n",
    "    res = [0,0,0]\r\n",
    "    for i in range(3):\r\n",
    "        for j in range(3):\r\n",
    "            res[i] += diff(mat[i,j],axes[j])\r\n",
    "    return Matrix(res)\r\n",
    "\r\n",
    "mu, lam = symbols(\"\\mu \\lambda\")\r\n",
    "\r\n",
    "c = Matrix([\r\n",
    "[2*mu+lam,lam,lam,0,0,0],\r\n",
    "[lam,2*mu+lam,lam,0,0,0],\r\n",
    "[lam,lam,2*mu+lam,0,0,0],\r\n",
    "[0,0,0,mu,0,0],\r\n",
    "[0,0,0,0,mu,0],\r\n",
    "[0,0,0,0,0,mu],\r\n",
    "])\r\n",
    "\r\n",
    "\r\n",
    "x,y,z,t = symbols(\"x y z t\")\r\n",
    "dims = [x,y,z]\r\n",
    "us = [Function(\"U_x\")(x,y,z,t),Function(\"U_y\")(x,y,z,t),Function(\"U_z\")(x,y,z,t)]\r\n",
    "\r\n",
    "U=Matrix(us)\r\n",
    "easycopy(c)\r\n",
    "U"
   ],
   "outputs": [
    {
     "output_type": "execute_result",
     "data": {
      "text/latex": [
       "$\\displaystyle \\left[\\begin{matrix}\\operatorname{U_{x}}{\\left(x,y,z,t \\right)}\\\\\\operatorname{U_{y}}{\\left(x,y,z,t \\right)}\\\\\\operatorname{U_{z}}{\\left(x,y,z,t \\right)}\\end{matrix}\\right]$"
      ],
      "text/plain": [
       "Matrix([\n",
       "[U_x(x, y, z, t)],\n",
       "[U_y(x, y, z, t)],\n",
       "[U_z(x, y, z, t)]])"
      ]
     },
     "metadata": {},
     "execution_count": 3
    }
   ],
   "metadata": {}
  },
  {
   "cell_type": "code",
   "execution_count": 4,
   "source": [
    "gradientMat = gradient(U,symbols(\"x y z\"))\r\n",
    "gradientTranspose = gradient(U.transpose() ,symbols(\"x y z\"))\r\n",
    "uTerm = (1/2)*(gradientMat + gradientTranspose)\r\n",
    "easycopy(uTerm)\r\n",
    "uTerm"
   ],
   "outputs": [
    {
     "output_type": "execute_result",
     "data": {
      "text/latex": [
       "$\\displaystyle \\left[\\begin{matrix}1.0 \\frac{\\partial}{\\partial x} \\operatorname{U_{x}}{\\left(x,y,z,t \\right)} & 1.0 \\frac{\\partial}{\\partial y} \\operatorname{U_{x}}{\\left(x,y,z,t \\right)} & 1.0 \\frac{\\partial}{\\partial z} \\operatorname{U_{x}}{\\left(x,y,z,t \\right)}\\\\1.0 \\frac{\\partial}{\\partial x} \\operatorname{U_{y}}{\\left(x,y,z,t \\right)} & 1.0 \\frac{\\partial}{\\partial y} \\operatorname{U_{y}}{\\left(x,y,z,t \\right)} & 1.0 \\frac{\\partial}{\\partial z} \\operatorname{U_{y}}{\\left(x,y,z,t \\right)}\\\\1.0 \\frac{\\partial}{\\partial x} \\operatorname{U_{z}}{\\left(x,y,z,t \\right)} & 1.0 \\frac{\\partial}{\\partial y} \\operatorname{U_{z}}{\\left(x,y,z,t \\right)} & 1.0 \\frac{\\partial}{\\partial z} \\operatorname{U_{z}}{\\left(x,y,z,t \\right)}\\end{matrix}\\right]$"
      ],
      "text/plain": [
       "Matrix([\n",
       "[1.0*Derivative(U_x(x, y, z, t), x), 1.0*Derivative(U_x(x, y, z, t), y), 1.0*Derivative(U_x(x, y, z, t), z)],\n",
       "[1.0*Derivative(U_y(x, y, z, t), x), 1.0*Derivative(U_y(x, y, z, t), y), 1.0*Derivative(U_y(x, y, z, t), z)],\n",
       "[1.0*Derivative(U_z(x, y, z, t), x), 1.0*Derivative(U_z(x, y, z, t), y), 1.0*Derivative(U_z(x, y, z, t), z)]])"
      ]
     },
     "metadata": {},
     "execution_count": 4
    }
   ],
   "metadata": {}
  },
  {
   "cell_type": "code",
   "execution_count": 5,
   "source": [
    "result = tensorDiv(uTerm*c[0:3,0:3],dims)\r\n",
    "result"
   ],
   "outputs": [
    {
     "output_type": "execute_result",
     "data": {
      "text/latex": [
       "$\\displaystyle \\left[\\begin{matrix}2.0 \\lambda \\frac{\\partial^{2}}{\\partial y\\partial x} \\operatorname{U_{x}}{\\left(x,y,z,t \\right)} + 2.0 \\lambda \\frac{\\partial^{2}}{\\partial z\\partial x} \\operatorname{U_{x}}{\\left(x,y,z,t \\right)} + 2.0 \\lambda \\frac{\\partial^{2}}{\\partial z\\partial y} \\operatorname{U_{x}}{\\left(x,y,z,t \\right)} + \\left(1.0 \\lambda + 2.0 \\mu\\right) \\frac{\\partial^{2}}{\\partial x^{2}} \\operatorname{U_{x}}{\\left(x,y,z,t \\right)} + \\left(1.0 \\lambda + 2.0 \\mu\\right) \\frac{\\partial^{2}}{\\partial y^{2}} \\operatorname{U_{x}}{\\left(x,y,z,t \\right)} + \\left(1.0 \\lambda + 2.0 \\mu\\right) \\frac{\\partial^{2}}{\\partial z^{2}} \\operatorname{U_{x}}{\\left(x,y,z,t \\right)}\\\\2.0 \\lambda \\frac{\\partial^{2}}{\\partial y\\partial x} \\operatorname{U_{y}}{\\left(x,y,z,t \\right)} + 2.0 \\lambda \\frac{\\partial^{2}}{\\partial z\\partial x} \\operatorname{U_{y}}{\\left(x,y,z,t \\right)} + 2.0 \\lambda \\frac{\\partial^{2}}{\\partial z\\partial y} \\operatorname{U_{y}}{\\left(x,y,z,t \\right)} + \\left(1.0 \\lambda + 2.0 \\mu\\right) \\frac{\\partial^{2}}{\\partial x^{2}} \\operatorname{U_{y}}{\\left(x,y,z,t \\right)} + \\left(1.0 \\lambda + 2.0 \\mu\\right) \\frac{\\partial^{2}}{\\partial y^{2}} \\operatorname{U_{y}}{\\left(x,y,z,t \\right)} + \\left(1.0 \\lambda + 2.0 \\mu\\right) \\frac{\\partial^{2}}{\\partial z^{2}} \\operatorname{U_{y}}{\\left(x,y,z,t \\right)}\\\\2.0 \\lambda \\frac{\\partial^{2}}{\\partial y\\partial x} \\operatorname{U_{z}}{\\left(x,y,z,t \\right)} + 2.0 \\lambda \\frac{\\partial^{2}}{\\partial z\\partial x} \\operatorname{U_{z}}{\\left(x,y,z,t \\right)} + 2.0 \\lambda \\frac{\\partial^{2}}{\\partial z\\partial y} \\operatorname{U_{z}}{\\left(x,y,z,t \\right)} + \\left(1.0 \\lambda + 2.0 \\mu\\right) \\frac{\\partial^{2}}{\\partial x^{2}} \\operatorname{U_{z}}{\\left(x,y,z,t \\right)} + \\left(1.0 \\lambda + 2.0 \\mu\\right) \\frac{\\partial^{2}}{\\partial y^{2}} \\operatorname{U_{z}}{\\left(x,y,z,t \\right)} + \\left(1.0 \\lambda + 2.0 \\mu\\right) \\frac{\\partial^{2}}{\\partial z^{2}} \\operatorname{U_{z}}{\\left(x,y,z,t \\right)}\\end{matrix}\\right]$"
      ],
      "text/plain": [
       "Matrix([\n",
       "[2.0*\\lambda*Derivative(U_x(x, y, z, t), x, y) + 2.0*\\lambda*Derivative(U_x(x, y, z, t), x, z) + 2.0*\\lambda*Derivative(U_x(x, y, z, t), y, z) + (1.0*\\lambda + 2.0*\\mu)*Derivative(U_x(x, y, z, t), (x, 2)) + (1.0*\\lambda + 2.0*\\mu)*Derivative(U_x(x, y, z, t), (y, 2)) + (1.0*\\lambda + 2.0*\\mu)*Derivative(U_x(x, y, z, t), (z, 2))],\n",
       "[2.0*\\lambda*Derivative(U_y(x, y, z, t), x, y) + 2.0*\\lambda*Derivative(U_y(x, y, z, t), x, z) + 2.0*\\lambda*Derivative(U_y(x, y, z, t), y, z) + (1.0*\\lambda + 2.0*\\mu)*Derivative(U_y(x, y, z, t), (x, 2)) + (1.0*\\lambda + 2.0*\\mu)*Derivative(U_y(x, y, z, t), (y, 2)) + (1.0*\\lambda + 2.0*\\mu)*Derivative(U_y(x, y, z, t), (z, 2))],\n",
       "[2.0*\\lambda*Derivative(U_z(x, y, z, t), x, y) + 2.0*\\lambda*Derivative(U_z(x, y, z, t), x, z) + 2.0*\\lambda*Derivative(U_z(x, y, z, t), y, z) + (1.0*\\lambda + 2.0*\\mu)*Derivative(U_z(x, y, z, t), (x, 2)) + (1.0*\\lambda + 2.0*\\mu)*Derivative(U_z(x, y, z, t), (y, 2)) + (1.0*\\lambda + 2.0*\\mu)*Derivative(U_z(x, y, z, t), (z, 2))]])"
      ]
     },
     "metadata": {},
     "execution_count": 5
    }
   ],
   "metadata": {}
  },
  {
   "cell_type": "code",
   "execution_count": 25,
   "source": [
    "import numpy as np\r\n",
    "import matplotlib.pyplot as plt\r\n",
    "\r\n",
    "fig = plt.figure()\r\n",
    "ax = fig.add_axes([0.1, 0.1, 0.8, 0.8])\r\n",
    "\r\n",
    "f0 = 10000\r\n",
    "t0 = 1/f0\r\n",
    "\r\n",
    "tRange = np.linspace(0,t0*4, 1000)\r\n",
    "vRange = np.exp(-(2*(tRange-2*t0)/t0)**2)*np.sin(2*np.pi*f0*tRange)\r\n",
    "envelope = np.exp(-(2*(tRange-2*t0)/t0)**2)\r\n",
    "\r\n",
    "ax.plot(tRange, vRange)\r\n",
    "\r\n",
    "ax.set_xticks([])\r\n",
    "ax.set_yticks([])\r\n",
    "\r\n",
    "ax.set_xlabel(\"Time, 0 to 4t0\")\r\n",
    "ax.set_ylabel(\"Displacement\")\r\n"
   ],
   "outputs": [
    {
     "output_type": "execute_result",
     "data": {
      "text/plain": [
       "Text(0, 0.5, 'Displacement')"
      ]
     },
     "metadata": {},
     "execution_count": 25
    },
    {
     "output_type": "display_data",
     "data": {
      "image/png": "[encoded data removed]",
      "text/plain": [
       "<Figure size 432x288 with 1 Axes>"
      ]
     },
     "metadata": {}
    }
   ],
   "metadata": {}
  }
 ],
 "metadata": {
  "orig_nbformat": 4,
  "language_info": {
   "name": "python",
   "version": "3.9.7",
   "mimetype": "text/x-python",
   "codemirror_mode": {
    "name": "ipython",
    "version": 3
   },
   "pygments_lexer": "ipython3",
   "nbconvert_exporter": "python",
   "file_extension": ".py"
  },
  "kernelspec": {
   "name": "python3",
   "display_name": "Python 3.9.7 64-bit"
  },
  "interpreter": {
   "hash": "f373b9c250ed3b0a998e280c91e2688b2dd6d73ddffc7cc226348105802fd29b"
  }
 },
 "nbformat": 4,
 "nbformat_minor": 2
}