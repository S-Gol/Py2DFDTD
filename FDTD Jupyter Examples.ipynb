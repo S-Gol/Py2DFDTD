{
 "cells": [
  {
   "cell_type": "markdown",
   "source": [
    "## FDTD Elastic - Example Usage"
   ],
   "metadata": {}
  },
  {
   "cell_type": "code",
   "execution_count": 1,
   "source": [
    "from FDTD.FDTDElastic import FDTDElasticModel    #Elastic wave model\r\n",
    "from FDTD.Materials import materials             #Material Presets\r\n",
    "import numpy as np\r\n",
    "from numpy import pi                             #Used for Gaussian source math\r\n",
    "import sys"
   ],
   "outputs": [],
   "metadata": {
    "scrolled": true
   }
  },
  {
   "cell_type": "markdown",
   "source": [
    "## Source creation"
   ],
   "metadata": {}
  },
  {
   "cell_type": "code",
   "execution_count": 2,
   "source": [
    "#Frequency, hz\r\n",
    "f0=10\r\n",
    "#Period\r\n",
    "t0 = 1.00 / f0\r\n",
    "def sourceFunc(t):\r\n",
    "    v = np.exp(-(((2*(t-2*t0)/(t0))**2)))*np.sin(2*pi*f0*t)*0.01\r\n",
    "    return [0,v]\r\n",
    "\r\n",
    "sources =[]\r\n",
    "#Formatted as tuple of [x,y,function]\r\n",
    "sources.append([100,100, sourceFunc])"
   ],
   "outputs": [],
   "metadata": {}
  },
  {
   "cell_type": "markdown",
   "source": [
    "## Create material array"
   ],
   "metadata": {}
  },
  {
   "cell_type": "code",
   "execution_count": 3,
   "source": [
    "materialGrid = np.full([400,400], materials[\"steel\"])\r\n",
    "materialGrid[200:250, 0::] = materials[\"generic\"]"
   ],
   "outputs": [],
   "metadata": {}
  },
  {
   "cell_type": "markdown",
   "source": [
    "## Initialize and run the model"
   ],
   "metadata": {}
  },
  {
   "cell_type": "code",
   "execution_count": 4,
   "source": [
    "model = FDTDElasticModel(sources, materialGrid=materialGrid, dx=10, dz=10, ntDisplay = 10)\r\n",
    "numT = 1000\r\n",
    "for i in range(numT):\r\n",
    "    model.timeStep()\r\n",
    "    sys.stdout.write('\\r')\r\n",
    "    sys.stdout.write(\"Frame {0} of {1}\".format(str(i+1), numT))\r\n",
    "    sys.stdout.flush()\r\n",
    "print(\"\\nDone\")\r\n",
    "print(\"Average update time, ms: \" + str(np.mean(model.frameTime[1::])))"
   ],
   "outputs": [
    {
     "output_type": "stream",
     "name": "stdout",
     "text": [
      "Initialized elastic FDTD field of size 400,400\n",
      "Frame 1000 of 1000\n",
      "Done\n",
      "Average update time, ms: 10.681117022479022\n"
     ]
    }
   ],
   "metadata": {
    "scrolled": true
   }
  }
 ],
 "metadata": {
  "kernelspec": {
   "name": "python3",
   "display_name": "Python 3.9.4 64-bit"
  },
  "language_info": {
   "codemirror_mode": {
    "name": "ipython",
    "version": 3
   },
   "file_extension": ".py",
   "mimetype": "text/x-python",
   "name": "python",
   "nbconvert_exporter": "python",
   "pygments_lexer": "ipython3",
   "version": "3.9.4"
  },
  "interpreter": {
   "hash": "eab1208e5d402f3bf29af09828560a37bdf593e0fedd01b54c668dc0a4d9fba6"
  }
 },
 "nbformat": 4,
 "nbformat_minor": 5
}