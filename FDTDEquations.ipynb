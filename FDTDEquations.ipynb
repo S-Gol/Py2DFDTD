{
 "cells": [
  {
   "cell_type": "code",
   "execution_count": 74,
   "source": [
    "from sympy import *\r\n",
    "import pyperclip\r\n",
    "\r\n",
    "\r\n",
    "axes = symbols(\"x y z\")\r\n",
    "t = symbols(\"t\")\r\n",
    "stressTensor = []\r\n",
    "for s1 in axes:\r\n",
    "    stressTensor.append([])\r\n",
    "    for s2 in axes:\r\n",
    "        if ord(str(s1)) > ord(str(s2)):\r\n",
    "            func = Function(\"\\sigma_{\"+str(s2)+str(s1)+\"}\")(axes[0], axes[1],axes[2])\r\n",
    "        else:\r\n",
    "            func = Function(\"\\sigma_{\"+str(s1)+str(s2)+\"}\")(axes[0], axes[1],axes[2])\r\n",
    "\r\n",
    "        stressTensor[-1].append(func)\r\n",
    "stressTensor = Matrix(stressTensor)\r\n",
    "pyperclip.copy((latex(stressTensor)))\r\n",
    "\r\n",
    "stressTensor"
   ],
   "outputs": [
    {
     "output_type": "execute_result",
     "data": {
      "text/latex": [
       "$\\displaystyle \\left[\\begin{matrix}\\sigma_{xx}{\\left(x,y,z \\right)} & \\sigma_{xy}{\\left(x,y,z \\right)} & \\sigma_{xz}{\\left(x,y,z \\right)}\\\\\\sigma_{xy}{\\left(x,y,z \\right)} & \\sigma_{yy}{\\left(x,y,z \\right)} & \\sigma_{yz}{\\left(x,y,z \\right)}\\\\\\sigma_{xz}{\\left(x,y,z \\right)} & \\sigma_{yz}{\\left(x,y,z \\right)} & \\sigma_{zz}{\\left(x,y,z \\right)}\\end{matrix}\\right]$"
      ],
      "text/plain": [
       "Matrix([\n",
       "[\\sigma_{xx}(x, y, z), \\sigma_{xy}(x, y, z), \\sigma_{xz}(x, y, z)],\n",
       "[\\sigma_{xy}(x, y, z), \\sigma_{yy}(x, y, z), \\sigma_{yz}(x, y, z)],\n",
       "[\\sigma_{xz}(x, y, z), \\sigma_{yz}(x, y, z), \\sigma_{zz}(x, y, z)]])"
      ]
     },
     "metadata": {},
     "execution_count": 74
    }
   ],
   "metadata": {}
  },
  {
   "cell_type": "code",
   "execution_count": 75,
   "source": [
    "divMatrix = Matrix([0,0,0])\r\n",
    "\r\n",
    "\r\n",
    "for i in range(3):\r\n",
    "    for j in range(3):\r\n",
    "        divMatrix[i] += diff(stressTensor[i,j],axes[j])\r\n",
    "divString = latex(divMatrix).replace(\"{\\\\left(x,y,z \\\\right)}\",\"\")\r\n",
    "pyperclip.copy(divString)\r\n",
    "divMatrix"
   ],
   "outputs": [
    {
     "output_type": "execute_result",
     "data": {
      "text/latex": [
       "$\\displaystyle \\left[\\begin{matrix}\\frac{\\partial}{\\partial x} \\sigma_{xx}{\\left(x,y,z \\right)} + \\frac{\\partial}{\\partial y} \\sigma_{xy}{\\left(x,y,z \\right)} + \\frac{\\partial}{\\partial z} \\sigma_{xz}{\\left(x,y,z \\right)}\\\\\\frac{\\partial}{\\partial x} \\sigma_{xy}{\\left(x,y,z \\right)} + \\frac{\\partial}{\\partial y} \\sigma_{yy}{\\left(x,y,z \\right)} + \\frac{\\partial}{\\partial z} \\sigma_{yz}{\\left(x,y,z \\right)}\\\\\\frac{\\partial}{\\partial x} \\sigma_{xz}{\\left(x,y,z \\right)} + \\frac{\\partial}{\\partial y} \\sigma_{yz}{\\left(x,y,z \\right)} + \\frac{\\partial}{\\partial z} \\sigma_{zz}{\\left(x,y,z \\right)}\\end{matrix}\\right]$"
      ],
      "text/plain": [
       "Matrix([\n",
       "[Derivative(\\sigma_{xx}(x, y, z), x) + Derivative(\\sigma_{xy}(x, y, z), y) + Derivative(\\sigma_{xz}(x, y, z), z)],\n",
       "[Derivative(\\sigma_{xy}(x, y, z), x) + Derivative(\\sigma_{yy}(x, y, z), y) + Derivative(\\sigma_{yz}(x, y, z), z)],\n",
       "[Derivative(\\sigma_{xz}(x, y, z), x) + Derivative(\\sigma_{yz}(x, y, z), y) + Derivative(\\sigma_{zz}(x, y, z), z)]])"
      ]
     },
     "metadata": {},
     "execution_count": 75
    }
   ],
   "metadata": {}
  },
  {
   "cell_type": "code",
   "execution_count": 77,
   "source": [
    "ax = Function(\"a_x\")(axes[0], axes[1],axes[2], t)\r\n",
    "ay = Function(\"a_y\")(axes[0], axes[1],axes[2], t)\r\n",
    "az = Function(\"a_z\")(axes[0], axes[1],axes[2], t)\r\n",
    "accels=Matrix([ax,ay,az])\r\n",
    "\r\n",
    "matEqn = Eq(accels, divMatrix)\r\n",
    "matString = latex(matEqn).replace(\"{\\\\left(x,y,z \\\\right)}\",\"\").replace(\"{\\\\left(x,y,z,t \\\\right)}\",\"\")\r\n",
    "pyperclip.copy(matString)\r\n",
    "matEqn"
   ],
   "outputs": [
    {
     "output_type": "execute_result",
     "data": {
      "text/latex": [
       "$\\displaystyle \\left[\\begin{matrix}\\operatorname{a_{x}}{\\left(x,y,z,t \\right)}\\\\\\operatorname{a_{y}}{\\left(x,y,z,t \\right)}\\\\\\operatorname{a_{z}}{\\left(x,y,z,t \\right)}\\end{matrix}\\right] = \\left[\\begin{matrix}\\frac{\\partial}{\\partial x} \\sigma_{xx}{\\left(x,y,z \\right)} + \\frac{\\partial}{\\partial y} \\sigma_{xy}{\\left(x,y,z \\right)} + \\frac{\\partial}{\\partial z} \\sigma_{xz}{\\left(x,y,z \\right)}\\\\\\frac{\\partial}{\\partial x} \\sigma_{xy}{\\left(x,y,z \\right)} + \\frac{\\partial}{\\partial y} \\sigma_{yy}{\\left(x,y,z \\right)} + \\frac{\\partial}{\\partial z} \\sigma_{yz}{\\left(x,y,z \\right)}\\\\\\frac{\\partial}{\\partial x} \\sigma_{xz}{\\left(x,y,z \\right)} + \\frac{\\partial}{\\partial y} \\sigma_{yz}{\\left(x,y,z \\right)} + \\frac{\\partial}{\\partial z} \\sigma_{zz}{\\left(x,y,z \\right)}\\end{matrix}\\right]$"
      ],
      "text/plain": [
       "Eq(Matrix([\n",
       "[a_x(x, y, z, t)],\n",
       "[a_y(x, y, z, t)],\n",
       "[a_z(x, y, z, t)]]), Matrix([\n",
       "[Derivative(\\sigma_{xx}(x, y, z), x) + Derivative(\\sigma_{xy}(x, y, z), y) + Derivative(\\sigma_{xz}(x, y, z), z)],\n",
       "[Derivative(\\sigma_{xy}(x, y, z), x) + Derivative(\\sigma_{yy}(x, y, z), y) + Derivative(\\sigma_{yz}(x, y, z), z)],\n",
       "[Derivative(\\sigma_{xz}(x, y, z), x) + Derivative(\\sigma_{yz}(x, y, z), y) + Derivative(\\sigma_{zz}(x, y, z), z)]]))"
      ]
     },
     "metadata": {},
     "execution_count": 77
    }
   ],
   "metadata": {}
  },
  {
   "cell_type": "code",
   "execution_count": 1,
   "source": [
    "mu, lam = symbols(\"\\mu \\lambda\")\r\n",
    "\r\n",
    "c = Matrix([\r\n",
    "[2*mu+lam,lam,lam,0,0,0],\r\n",
    "[lam,2*mu+lam,lam,0,0,0],\r\n",
    "[lam,lam,2*mu+lam,0,0,0],\r\n",
    "[0,0,0,mu,0,0],\r\n",
    "[0,0,0,0,mu,0],\r\n",
    "[0,0,0,0,0,mu],\r\n",
    "])\r\n"
   ],
   "outputs": [
    {
     "output_type": "error",
     "ename": "NameError",
     "evalue": "name 'symbols' is not defined",
     "traceback": [
      "\u001b[1;31m---------------------------------------------------------------------------\u001b[0m",
      "\u001b[1;31mNameError\u001b[0m                                 Traceback (most recent call last)",
      "\u001b[1;32m~\\AppData\\Local\\Temp/ipykernel_14620/369922349.py\u001b[0m in \u001b[0;36m<module>\u001b[1;34m\u001b[0m\n\u001b[1;32m----> 1\u001b[1;33m \u001b[0mmu\u001b[0m\u001b[1;33m,\u001b[0m \u001b[0mlam\u001b[0m \u001b[1;33m=\u001b[0m \u001b[0msymbols\u001b[0m\u001b[1;33m(\u001b[0m\u001b[1;34m\"\\mu \\lambda\"\u001b[0m\u001b[1;33m)\u001b[0m\u001b[1;33m\u001b[0m\u001b[1;33m\u001b[0m\u001b[0m\n\u001b[0m\u001b[0;32m      2\u001b[0m \u001b[1;33m\u001b[0m\u001b[0m\n\u001b[0;32m      3\u001b[0m c = Matrix([\n\u001b[0;32m      4\u001b[0m \u001b[1;33m[\u001b[0m\u001b[1;36m2\u001b[0m\u001b[1;33m*\u001b[0m\u001b[0mmu\u001b[0m\u001b[1;33m+\u001b[0m\u001b[0mlam\u001b[0m\u001b[1;33m,\u001b[0m\u001b[0mlam\u001b[0m\u001b[1;33m,\u001b[0m\u001b[0mlam\u001b[0m\u001b[1;33m,\u001b[0m\u001b[1;36m0\u001b[0m\u001b[1;33m,\u001b[0m\u001b[1;36m0\u001b[0m\u001b[1;33m,\u001b[0m\u001b[1;36m0\u001b[0m\u001b[1;33m]\u001b[0m\u001b[1;33m,\u001b[0m\u001b[1;33m\u001b[0m\u001b[1;33m\u001b[0m\u001b[0m\n\u001b[0;32m      5\u001b[0m \u001b[1;33m[\u001b[0m\u001b[0mlam\u001b[0m\u001b[1;33m,\u001b[0m\u001b[1;36m2\u001b[0m\u001b[1;33m*\u001b[0m\u001b[0mmu\u001b[0m\u001b[1;33m+\u001b[0m\u001b[0mlam\u001b[0m\u001b[1;33m,\u001b[0m\u001b[0mlam\u001b[0m\u001b[1;33m,\u001b[0m\u001b[1;36m0\u001b[0m\u001b[1;33m,\u001b[0m\u001b[1;36m0\u001b[0m\u001b[1;33m,\u001b[0m\u001b[1;36m0\u001b[0m\u001b[1;33m]\u001b[0m\u001b[1;33m,\u001b[0m\u001b[1;33m\u001b[0m\u001b[1;33m\u001b[0m\u001b[0m\n",
      "\u001b[1;31mNameError\u001b[0m: name 'symbols' is not defined"
     ]
    }
   ],
   "metadata": {}
  }
 ],
 "metadata": {
  "orig_nbformat": 4,
  "language_info": {
   "name": "python",
   "version": "3.9.7",
   "mimetype": "text/x-python",
   "codemirror_mode": {
    "name": "ipython",
    "version": 3
   },
   "pygments_lexer": "ipython3",
   "nbconvert_exporter": "python",
   "file_extension": ".py"
  },
  "kernelspec": {
   "name": "python3",
   "display_name": "Python 3.9.7 64-bit"
  },
  "interpreter": {
   "hash": "f373b9c250ed3b0a998e280c91e2688b2dd6d73ddffc7cc226348105802fd29b"
  }
 },
 "nbformat": 4,
 "nbformat_minor": 2
}